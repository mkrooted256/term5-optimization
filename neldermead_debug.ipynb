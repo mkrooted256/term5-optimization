{
 "cells": [
  {
   "cell_type": "code",
   "execution_count": 1,
   "id": "d5b82a9e-2a58-479f-9da1-166e6f975ddb",
   "metadata": {},
   "outputs": [],
   "source": [
    "\n",
    "%matplotlib inline"
   ]
  },
  {
   "cell_type": "code",
   "execution_count": 2,
   "id": "b6a42463-9715-4d05-bb90-5bb2ac4e370a",
   "metadata": {},
   "outputs": [],
   "source": [
    "import sympy as sp\n",
    "import numpy as np\n",
    "import matplotlib.pyplot as plt\n",
    "from matplotlib.patches import Polygon\n",
    "from matplotlib.collections import PatchCollection\n",
    "import matplotlib.animation as animation\n",
    "\n",
    "from test_functions import f1\n",
    "\n",
    "from lab1.scalar_optimization import Dumb"
   ]
  },
  {
   "cell_type": "code",
   "execution_count": 3,
   "id": "e55d6232-15d4-4877-9dbe-df235c759878",
   "metadata": {},
   "outputs": [],
   "source": [
    "G = np.linspace(-10,10,1000)"
   ]
  },
  {
   "cell_type": "markdown",
   "id": "2f087fc3-fc9c-4d81-bff7-4dc3e667ddd7",
   "metadata": {},
   "source": [
    "## Підготовка"
   ]
  },
  {
   "cell_type": "code",
   "execution_count": null,
   "id": "0fa812f8-7757-43d1-93eb-cee4722b088a",
   "metadata": {},
   "outputs": [],
   "source": []
  },
  {
   "cell_type": "markdown",
   "id": "cde783c8-6a5e-4aca-b11f-7b791ca9a338",
   "metadata": {},
   "source": [
    "## Основна функція - трансформація симплекса"
   ]
  },
  {
   "cell_type": "code",
   "execution_count": 4,
   "id": "4dabdeea-4d25-46c2-a30c-90e0b8380a26",
   "metadata": {},
   "outputs": [],
   "source": [
    "EXPAND_MINIMIZE, EXPAND_CLASSIC = 0, 1\n",
    "\n",
    "class NM:    \n",
    "    #static\n",
    "    def init_simplex(self, N, x0=None, simplex_edge=1):\n",
    "        if x0 is None:\n",
    "            x0 = np.zeros(N)\n",
    "        S = [x0]\n",
    "        for i in range(N):\n",
    "            S.append(x0 + simplex_edge * np.array([int(j == i) for j in range(N)]))\n",
    "        return np.array(S)\n",
    "            \n",
    "    def __init__(self, α=1, β=0.5, γ=2, δ=0.5, expand=EXPAND_MINIMIZE, eps_x=1e-5, eps_f=1e-5, timeout=100):\n",
    "        \"\"\"\n",
    "        EXPAND_MINIMIZE: x_new = argmin{f_e, f_r};\n",
    "        EXPAND_CLASSIC: x_new = x_e if f_e < f_best\n",
    "        \"\"\"\n",
    "        self.expand = expand\n",
    "        self.α, self.β, self.γ, self.δ = α, β, γ, δ\n",
    "        self.eps_x, self.eps_f = eps_x, eps_f\n",
    "        self.timeout = timeout\n",
    "    \n",
    "    def _eval_vertices(self):\n",
    "        \"\"\"Return sorted list of (v_i, f(v_i))\"\"\"\n",
    "        return sorted(enumerate(f(self.S[:,0], self.S[:,1])), key=lambda x:x[1])\n",
    "\n",
    "    def _centroid(self):\n",
    "        # sum everything except the worst point\n",
    "        c = self.S.sum(axis=0) - self.S[self.fS[-1][0]]\n",
    "        return c / self.N  # mean of (N+1)-1 vertices\n",
    "    \n",
    "    def _step(self):\n",
    "        self.steps += 1\n",
    "        (best_i, best_f), (worst_i, worst_f), (worst2_i, worst2_f) = self.fS[0], self.fS[-1], self.fS[-2]\n",
    "        c = self._centroid()\n",
    "        \n",
    "        action = 'reflected'\n",
    "        \n",
    "        # reflect\n",
    "        x_r = c + self.α * (c - self.S[worst_i])\n",
    "        f_r = self.f(*x_r)\n",
    "        \n",
    "        if f_r < best_f:\n",
    "            # expand\n",
    "            x_e = c + self.γ * (x_r - c)\n",
    "            f_e = self.f(*x_e)\n",
    "            \n",
    "            if self.expand == EXPAND_MINIMIZE:\n",
    "                if f_e < f_r:\n",
    "                    self.S[worst_i] = x_e\n",
    "                    action = 'expanded_m'\n",
    "                else:\n",
    "                    self.S[worst_i] = x_r\n",
    "                    action = 'reflected'\n",
    "            elif self.expand == EXPAND_CLASSIC:\n",
    "                if f_e < best_f:\n",
    "                    self.S[worst_i] = x_e\n",
    "                    action = 'expanded_c'\n",
    "                else:\n",
    "                    self.S[worst_i] = x_r\n",
    "                    action = 'reflected'\n",
    "        elif f_r > worst2_f:\n",
    "            # contract\n",
    "            if f_r < worst_f:\n",
    "                # contract outside - from reflected to centroid\n",
    "                x_c = c + self.β * (x_r - c)\n",
    "                action = 'contracted inside'\n",
    "            else:\n",
    "                # contract inside - from worst to centroid \n",
    "                x_c = c + self.β * (self.S[worst_i] - c)\n",
    "                action = 'contracted outside'\n",
    "            f_c = self.f(*x_c)\n",
    "            if f_c <= f_r:\n",
    "                self.S[worst_i] = x_c\n",
    "            else:\n",
    "                # shrink\n",
    "                action = 'shrink'\n",
    "                for i in range(self.N):\n",
    "                    x_i = self.fS[i+1][0]\n",
    "                    self.S[x_i] = self.S[best_i] + self.δ * (self.S[x_i] - self.S[best_i])\n",
    "        else:\n",
    "            # best_f <= self.f(xr) < worst2_f\n",
    "            # enhanced a bit. save new vertex\n",
    "            self.S[worst_i] = x_r\n",
    "            action = 'reflected'\n",
    "        \n",
    "        self.fS = self._eval_vertices()\n",
    "        self.c = c\n",
    "        self.last_action = action\n",
    "        \n",
    "    def _term_condition(self):\n",
    "        if self.steps == 0: \n",
    "            return False\n",
    "        \n",
    "        # a) vertex are close\n",
    "        if ((self.S - self.c) < self.eps_x).all():\n",
    "            self.term_condition = 'x close'\n",
    "            return True\n",
    "        \n",
    "        # b) vertex values are close\n",
    "        fc = self.f(*self.c)\n",
    "        if (np.abs([self.f(*x) - fc for x in self.S]) < self.eps_f).all():\n",
    "            self.term_condition = 'f close'\n",
    "            return True\n",
    "        \n",
    "        # c) timeout\n",
    "        if self.steps > self.timeout:\n",
    "            self.term_condition = 'timeout'\n",
    "            return True\n",
    "        \n",
    "        return False\n",
    "    \n",
    "    def optimize(self, f, N, G, S0=None, init_only=False):\n",
    "        self.lims = G.min(axis=0), G.max(axis=0)\n",
    "        self.N = N\n",
    "        self.f = f\n",
    "        self.G = G\n",
    "        self.steps = 0\n",
    "        self.last_action = None\n",
    "        self.term_condition = None\n",
    "        \n",
    "        if S0 is None:\n",
    "            self.S = self.init_simplex(self.N)\n",
    "        else:\n",
    "            self.S = S0\n",
    "        self.fS = self._eval_vertices()\n",
    "        \n",
    "        if init_only:\n",
    "            return\n",
    "        \n",
    "        while not self._term_condition():\n",
    "            self._step()\n",
    "        \n",
    "        c = self.S.mean(axis=0)\n",
    "        return c, self.f(*c)\n",
    "        "
   ]
  },
  {
   "cell_type": "markdown",
   "id": "2ed8d63a-a9e9-4f3c-8c78-92f2fe19fbef",
   "metadata": {},
   "source": [
    "# Demo"
   ]
  },
  {
   "cell_type": "markdown",
   "id": "6ed2252a-aadc-4a42-a8d9-ba23bffef178",
   "metadata": {},
   "source": [
    "### Automated demo"
   ]
  },
  {
   "cell_type": "code",
   "execution_count": 30,
   "id": "e287cc05-53dd-476e-bfa2-3dd17ff41c75",
   "metadata": {},
   "outputs": [],
   "source": [
    "Ndim = 2 # dimensions\n",
    "\n",
    "def f1(x, y):\n",
    "    return x*x + y*y - 5*x + 8*y\n",
    "\n",
    "def himmelblau(x,y):\n",
    "    return np.square(x*x + y - 11) + np.square(x + y*y -7)\n",
    "\n",
    "def ackley(x,y):\n",
    "    return -20 * np.exp(-0.2 * np.sqrt(0.5 * (x*x + y*y))) - np.exp(0.5*(np.cos(2*3.1415*x)+np.cos(2*3.1415*y)))+ np.e + 20\n",
    "\n",
    "xlims = (-5, 5)\n",
    "ylims = (-5, 5)\n",
    "\n",
    "X = np.linspace(*xlims, 100)\n",
    "Y = np.linspace(*ylims, 100)\n",
    "\n",
    "nm = NM(eps_f=1e-10, eps_x=1e-10, expand=EXPAND_CLASSIC)\n",
    "S0 = nm.init_simplex(2, x0=(-1.8,-2.4), simplex_edge=5)\n",
    "S0\n",
    "\n",
    "f = ackley"
   ]
  },
  {
   "cell_type": "code",
   "execution_count": 31,
   "id": "d7afd214-00aa-4c18-b96e-ab16c2795801",
   "metadata": {},
   "outputs": [
    {
     "data": {
      "text/plain": [
       "(array([5.87642520e-11, 8.63148122e-11]), 2.9534419354604324e-10)"
      ]
     },
     "execution_count": 31,
     "metadata": {},
     "output_type": "execute_result"
    }
   ],
   "source": [
    "%matplotlib widget\n",
    "\n",
    "nm.optimize(f, 2, np.array([xlims,ylims]), init_only=False)"
   ]
  },
  {
   "cell_type": "code",
   "execution_count": 37,
   "id": "9644885c-190e-491c-9997-5f48bc3f1a2a",
   "metadata": {},
   "outputs": [
    {
     "data": {
      "application/vnd.jupyter.widget-view+json": {
       "model_id": "2b86dc2138dd4f61b3cd8afc55656a07",
       "version_major": 2,
       "version_minor": 0
      },
      "text/plain": [
       "Canvas(toolbar=Toolbar(toolitems=[('Home', 'Reset original view', 'home', 'home'), ('Back', 'Back to previous …"
      ]
     },
     "metadata": {},
     "output_type": "display_data"
    },
    {
     "name": "stdout",
     "output_type": "stream",
     "text": [
      "[[-1.8 -2.4]\n",
      " [ 3.2 -2.4]\n",
      " [-1.8  2.6]]\n"
     ]
    },
    {
     "data": {
      "text/plain": [
       "(<matplotlib.patches.Polygon at 0x16992df8970>,\n",
       " Text(0, 0, '1 [[-1.8  -2.4 ]\\n [ 0.7  -1.15]\\n [-1.8   2.6 ]]\\n[-0.96666667 -0.31666667]\\ncontracted outside'),\n",
       " <matplotlib.collections.PathCollection at 0x16997410f70>)"
      ]
     },
     "execution_count": 37,
     "metadata": {},
     "output_type": "execute_result"
    }
   ],
   "source": [
    "Z = f(*np.meshgrid(X,Y))\n",
    "\n",
    "fig, ax = plt.subplots()\n",
    "cf = plt.contourf(X, Y, Z, cmap='plasma', levels=30)\n",
    "plt.xticks(range(xlims[0], xlims[1]+1))\n",
    "plt.yticks(range(ylims[0], ylims[1]+1))\n",
    "fig.colorbar(cf)\n",
    "ax.grid()\n",
    "\n",
    "p = Polygon(nm.S, fill=False)\n",
    "log = ax.text(0, 0, '', fontsize=12)\n",
    "x_c = nm.S.mean(axis=0)\n",
    "scat = plt.scatter(0,0, c='r')\n",
    "\n",
    "def gen():\n",
    "    global k \n",
    "    k = 1\n",
    "    while not nm._term_condition():\n",
    "        k += 1\n",
    "        yield k\n",
    "\n",
    "def init():\n",
    "    nm.optimize(f, 2, np.array([xlims, ylims]), init_only=True, S0=S0.copy())\n",
    "    print(S0)\n",
    "    p.set_xy(nm.S)\n",
    "    x_c = nm.S.mean(axis=0)\n",
    "    log.set_text(str(nm.S) + \"\\n\" + str(x_c))\n",
    "    ax.add_patch(p)\n",
    "    scat.set_offsets(x_c)\n",
    "    return p, log, scat\n",
    "\n",
    "def animate(i):\n",
    "    nm._step()\n",
    "    p.set_xy(nm.S)\n",
    "    x_c = nm.S.mean(axis=0)\n",
    "    log.set_text(str(i)+\" \"+str(nm.S) + \"\\n\" + str(x_c) + \"\\n\" + nm.last_action)\n",
    "    scat.set_offsets(x_c)\n",
    "    return p, log, scat\n",
    "\n",
    "true_x0 = np.array([2.5, -4])\n",
    "\n",
    "\n",
    "ax.scatter(*true_x0, c='g')\n",
    "# plt.scatter(*x_0, c='r')\n",
    "\n",
    "init()\n",
    "animate(1)\n",
    "\n",
    "# animate(1)\n",
    "# animate(2)\n",
    "# animate(3)\n",
    "# animate(4)\n",
    "\n",
    "# ani = animation.FuncAnimation(fig, animate, frames=gen, init_func=init,\n",
    "#                               interval=250, blit=True)"
   ]
  },
  {
   "cell_type": "code",
   "execution_count": 57,
   "id": "4edf40f3-1f58-425f-9e01-41fc2d77e845",
   "metadata": {},
   "outputs": [
    {
     "data": {
      "text/plain": [
       "(<matplotlib.patches.Polygon at 0x16992df8970>,\n",
       " Text(0, 0, '2 [[-0.56828603 -0.00196265]\\n [-0.86005859 -0.08432617]\\n [-0.2765625   0.08046875]]\\n[-0.56830238 -0.00194002]\\ncontracted outside'),\n",
       " <matplotlib.collections.PathCollection at 0x16997410f70>)"
      ]
     },
     "execution_count": 57,
     "metadata": {},
     "output_type": "execute_result"
    }
   ],
   "source": [
    "animate(2)"
   ]
  },
  {
   "cell_type": "code",
   "execution_count": 36,
   "id": "6597541c-538d-4ded-baef-72b8c8b6ba40",
   "metadata": {},
   "outputs": [
    {
     "name": "stdout",
     "output_type": "stream",
     "text": [
      "[[-1.8 -2.4]\n",
      " [ 3.2 -2.4]\n",
      " [-1.8  2.6]]\n"
     ]
    },
    {
     "data": {
      "text/plain": [
       "(<matplotlib.patches.Polygon at 0x16995bc1af0>,\n",
       " Text(0, 0, '[[-1.8 -2.4]\\n [ 3.2 -2.4]\\n [-1.8  2.6]]\\n[-0.13333333 -0.73333333]'),\n",
       " <matplotlib.collections.PathCollection at 0x1699729efa0>)"
      ]
     },
     "execution_count": 36,
     "metadata": {},
     "output_type": "execute_result"
    }
   ],
   "source": [
    "init()"
   ]
  },
  {
   "cell_type": "code",
   "execution_count": null,
   "id": "6b3d5b36-d403-47a1-b431-4e5970da702b",
   "metadata": {},
   "outputs": [],
   "source": []
  }
 ],
 "metadata": {
  "kernelspec": {
   "display_name": "Python [conda env:sci]",
   "language": "python",
   "name": "conda-env-sci-py"
  },
  "language_info": {
   "codemirror_mode": {
    "name": "ipython",
    "version": 3
   },
   "file_extension": ".py",
   "mimetype": "text/x-python",
   "name": "python",
   "nbconvert_exporter": "python",
   "pygments_lexer": "ipython3",
   "version": "3.9.5"
  }
 },
 "nbformat": 4,
 "nbformat_minor": 5
}
