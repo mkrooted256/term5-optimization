{
 "cells": [
  {
   "cell_type": "code",
   "execution_count": 1,
   "metadata": {},
   "outputs": [],
   "source": [
    "\n",
    "%matplotlib inline"
   ]
  },
  {
   "cell_type": "code",
   "execution_count": 1,
   "metadata": {},
   "outputs": [],
   "source": [
    "import sympy as sp\n",
    "import numpy as np\n",
    "import matplotlib.pyplot as plt\n",
    "from matplotlib.patches import Polygon\n",
    "from matplotlib.collections import PatchCollection\n",
    "import matplotlib.animation as animation\n",
    "\n",
    "from test_functions import f1\n",
    "\n",
    "from bruteforce.scalar_optimization import Dumb\n",
    "from zeroth.nelder_mead import NelderMead, EXPAND_CLASSIC, EXPAND_MINIMIZE"
   ]
  },
  {
   "cell_type": "code",
   "execution_count": 2,
   "metadata": {},
   "outputs": [],
   "source": [
    "G = np.linspace(-10,10,1000)"
   ]
  },
  {
   "cell_type": "markdown",
   "metadata": {},
   "source": [
    "# Demo"
   ]
  },
  {
   "cell_type": "markdown",
   "metadata": {},
   "source": [
    "### Automated demo"
   ]
  },
  {
   "cell_type": "code",
   "execution_count": 29,
   "metadata": {},
   "outputs": [],
   "source": [
    "Ndim = 2 # dimensions\n",
    "\n",
    "def f1(x, y):\n",
    "    return x*x + y*y - 5*x + 8*y\n",
    "\n",
    "def himmelblau(x,y):\n",
    "    return np.square(x*x + y - 11) + np.square(x + y*y -7)\n",
    "\n",
    "def ackley(x,y):\n",
    "    return -20 * np.exp(-0.2 * np.sqrt(0.5 * (x*x + y*y))) - np.exp(0.5*(np.cos(2*3.1415*x)+np.cos(2*3.1415*y)))+ np.e + 20\n",
    "\n",
    "xlims = (-5, 5)\n",
    "ylims = (-5, 5)\n",
    "\n",
    "X = np.linspace(*xlims, 100)\n",
    "Y = np.linspace(*ylims, 100)\n",
    "\n",
    "nm = NelderMead(eps_f=1e-10, eps_x=1e-10, expand=EXPAND_CLASSIC)\n",
    "S0 = nm.init_simplex(2, x0=(-1.0,-2.4), simplex_edge=5)\n",
    "S0\n",
    "\n",
    "f = ackley"
   ]
  },
  {
   "cell_type": "code",
   "execution_count": 30,
   "metadata": {},
   "outputs": [
    {
     "data": {
      "text/plain": [
       "{'x': array([5.87642520e-11, 8.63148122e-11]),\n",
       " 'f': 2.9534419354604324e-10,\n",
       " 'steps': 65,\n",
       " 'message': 'stopped because x close'}"
      ]
     },
     "execution_count": 30,
     "metadata": {},
     "output_type": "execute_result"
    }
   ],
   "source": [
    "%matplotlib widget\n",
    "\n",
    "nm.optimize(f, 2, np.array([xlims,ylims]), init_only=False)"
   ]
  },
  {
   "cell_type": "code",
   "execution_count": 31,
   "metadata": {},
   "outputs": [
    {
     "data": {
      "application/vnd.jupyter.widget-view+json": {
       "model_id": "f43b1b6df6dc40ed92e2109141daa007",
       "version_major": 2,
       "version_minor": 0
      },
      "text/plain": [
       "Canvas(toolbar=Toolbar(toolitems=[('Home', 'Reset original view', 'home', 'home'), ('Back', 'Back to previous …"
      ]
     },
     "metadata": {},
     "output_type": "display_data"
    },
    {
     "name": "stdout",
     "output_type": "stream",
     "text": [
      "[[-1.  -2.4]\n",
      " [ 4.  -2.4]\n",
      " [-1.   2.6]]\n"
     ]
    },
    {
     "data": {
      "text/plain": [
       "(<matplotlib.patches.Polygon at 0x1feac738130>,\n",
       " Text(0, 0, '1 [[-1.   -2.4 ]\\n [ 1.5  -1.15]\\n [-1.    2.6 ]]\\n[-0.16666667 -0.31666667]\\ncontracted outside'),\n",
       " <matplotlib.collections.PathCollection at 0x1feac830b20>)"
      ]
     },
     "execution_count": 31,
     "metadata": {},
     "output_type": "execute_result"
    }
   ],
   "source": [
    "Z = f(*np.meshgrid(X,Y))\n",
    "\n",
    "fig, ax = plt.subplots()\n",
    "cf = plt.contourf(X, Y, Z, cmap='plasma', levels=30)\n",
    "plt.xticks(range(xlims[0], xlims[1]+1))\n",
    "plt.yticks(range(ylims[0], ylims[1]+1))\n",
    "fig.colorbar(cf)\n",
    "ax.grid()\n",
    "\n",
    "p = Polygon(nm.S, fill=False)\n",
    "log = ax.text(0, 0, '', fontsize=12)\n",
    "x_c = nm.S.mean(axis=0)\n",
    "scat = plt.scatter(0,0, c='r')\n",
    "\n",
    "def gen():\n",
    "    global k \n",
    "    k = 1\n",
    "    while not nm._term_condition():\n",
    "        k += 1\n",
    "        yield k\n",
    "\n",
    "def init():\n",
    "    nm.optimize(f, 2, np.array([xlims, ylims]), init_only=True, S0=S0.copy())\n",
    "    print(S0)\n",
    "    p.set_xy(nm.S)\n",
    "    x_c = nm.S.mean(axis=0)\n",
    "    log.set_text(str(nm.S) + \"\\n\" + str(x_c))\n",
    "    ax.add_patch(p)\n",
    "    scat.set_offsets(x_c)\n",
    "    return p, log, scat\n",
    "\n",
    "def animate(i):\n",
    "    nm._step()\n",
    "    p.set_xy(nm.S)\n",
    "    x_c = nm.S.mean(axis=0)\n",
    "    log.set_text(str(i)+\" \"+str(nm.S) + \"\\n\" + str(x_c) + \"\\n\" + nm.last_action)\n",
    "    scat.set_offsets(x_c)\n",
    "    return p, log, scat\n",
    "\n",
    "# true_x0 = np.array([2.5, -4])\n",
    "\n",
    "\n",
    "# ax.scatter(*true_x0, c='g')\n",
    "# plt.scatter(*x_0, c='r')\n",
    "\n",
    "init()\n",
    "animate(1)\n",
    "\n",
    "# animate(1)\n",
    "# animate(2)\n",
    "# animate(3)\n",
    "# animate(4)\n",
    "\n",
    "# ani = animation.FuncAnimation(fig, animate, frames=gen, init_func=init,\n",
    "#                               interval=250, blit=True)"
   ]
  },
  {
   "cell_type": "code",
   "execution_count": 47,
   "metadata": {},
   "outputs": [
    {
     "data": {
      "text/plain": [
       "(<matplotlib.patches.Polygon at 0x1feac738130>,\n",
       " Text(0, 0, '2 [[-0.09146309  0.00094662]\\n [ 0.05891228  0.12709866]\\n [ 0.05930805 -0.03492346]]\\n[0.00891908 0.0310406 ]\\ncontracted outside'),\n",
       " <matplotlib.collections.PathCollection at 0x1feac830b20>)"
      ]
     },
     "execution_count": 47,
     "metadata": {},
     "output_type": "execute_result"
    }
   ],
   "source": [
    "animate(2)"
   ]
  },
  {
   "cell_type": "code",
   "execution_count": 23,
   "metadata": {},
   "outputs": [
    {
     "name": "stdout",
     "output_type": "stream",
     "text": [
      "[[-1.8 -2.4]\n",
      " [ 3.2 -2.4]\n",
      " [-1.8  2.6]]\n"
     ]
    },
    {
     "data": {
      "text/plain": [
       "(<matplotlib.patches.Polygon at 0x1fea9dfc970>,\n",
       " Text(0, 0, '[[-1.8 -2.4]\\n [ 3.2 -2.4]\\n [-1.8  2.6]]\\n[-0.13333333 -0.73333333]'),\n",
       " <matplotlib.collections.PathCollection at 0x1fea9f324f0>)"
      ]
     },
     "execution_count": 23,
     "metadata": {},
     "output_type": "execute_result"
    }
   ],
   "source": [
    "init()"
   ]
  },
  {
   "cell_type": "code",
   "execution_count": null,
   "metadata": {},
   "outputs": [],
   "source": []
  }
 ],
 "metadata": {
  "interpreter": {
   "hash": "3f7a9889b65ee3d6a00c9b687a9a8bff943d8bae5b6a5631d41cd057a4ec4502"
  },
  "kernelspec": {
   "display_name": "Python 3.9.5 64-bit ('sci': conda)",
   "name": "python3"
  },
  "language_info": {
   "codemirror_mode": {
    "name": "ipython",
    "version": 3
   },
   "file_extension": ".py",
   "mimetype": "text/x-python",
   "name": "python",
   "nbconvert_exporter": "python",
   "pygments_lexer": "ipython3",
   "version": "3.9.5"
  }
 },
 "nbformat": 4,
 "nbformat_minor": 5
}
